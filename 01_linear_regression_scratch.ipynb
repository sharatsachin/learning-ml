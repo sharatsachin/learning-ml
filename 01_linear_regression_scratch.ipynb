{
 "metadata": {
  "language_info": {
   "codemirror_mode": {
    "name": "ipython",
    "version": 3
   },
   "file_extension": ".py",
   "mimetype": "text/x-python",
   "name": "python",
   "nbconvert_exporter": "python",
   "pygments_lexer": "ipython3",
   "version": "3.9.1-final"
  },
  "orig_nbformat": 2,
  "kernelspec": {
   "name": "python3",
   "display_name": "Python 3.9.1 64-bit",
   "metadata": {
    "interpreter": {
     "hash": "972951680f70378456cfab88c359e072bd45c934348f4a76cceadaff542d740e"
    }
   }
  }
 },
 "nbformat": 4,
 "nbformat_minor": 2,
 "cells": [
  {
   "cell_type": "code",
   "execution_count": 1,
   "metadata": {},
   "outputs": [],
   "source": [
    "import numpy as np\n",
    "import matplotlib.pyplot as plt"
   ]
  },
  {
   "source": [
    "# Least Squares Regression\n",
    "\n",
    "## Finding line of best for single independent variable\n",
    "\n",
    "$$y = 4x + 5 + noise$$"
   ],
   "cell_type": "markdown",
   "metadata": {}
  },
  {
   "cell_type": "code",
   "execution_count": 2,
   "metadata": {},
   "outputs": [
    {
     "output_type": "execute_result",
     "data": {
      "text/plain": [
       "[<matplotlib.lines.Line2D at 0x2014c6b1700>]"
      ]
     },
     "metadata": {},
     "execution_count": 2
    },
    {
     "output_type": "display_data",
     "data": {
      "text/plain": "<Figure size 432x288 with 1 Axes>",
      "image/svg+xml": "<?xml version=\"1.0\" encoding=\"utf-8\" standalone=\"no\"?>\r\n<!DOCTYPE svg PUBLIC \"-//W3C//DTD SVG 1.1//EN\"\r\n  \"http://www.w3.org/Graphics/SVG/1.1/DTD/svg11.dtd\">\r\n<!-- Created with matplotlib (https://matplotlib.org/) -->\r\n<svg height=\"248.518125pt\" version=\"1.1\" viewBox=\"0 0 371.368469 248.518125\" width=\"371.368469pt\" xmlns=\"http://www.w3.org/2000/svg\" xmlns:xlink=\"http://www.w3.org/1999/xlink\">\r\n <metadata>\r\n  <rdf:RDF xmlns:cc=\"http://creativecommons.org/ns#\" xmlns:dc=\"http://purl.org/dc/elements/1.1/\" xmlns:rdf=\"http://www.w3.org/1999/02/22-rdf-syntax-ns#\">\r\n   <cc:Work>\r\n    <dc:type rdf:resource=\"http://purl.org/dc/dcmitype/StillImage\"/>\r\n    <dc:date>2021-02-07T11:49:30.055259</dc:date>\r\n    <dc:format>image/svg+xml</dc:format>\r\n    <dc:creator>\r\n     <cc:Agent>\r\n      <dc:title>Matplotlib v3.3.4, https://matplotlib.org/</dc:title>\r\n     </cc:Agent>\r\n    </dc:creator>\r\n   </cc:Work>\r\n  </rdf:RDF>\r\n </metadata>\r\n <defs>\r\n  <style type=\"text/css\">*{stroke-linecap:butt;stroke-linejoin:round;}</style>\r\n </defs>\r\n <g id=\"figure_1\">\r\n  <g id=\"patch_1\">\r\n   <path d=\"M -0 248.518125 \r\nL 371.368469 248.518125 \r\nL 371.368469 0 \r\nL -0 0 \r\nz\r\n\" style=\"fill:none;\"/>\r\n  </g>\r\n  <g id=\"axes_1\">\r\n   <g id=\"patch_2\">\r\n    <path d=\"M 26.925 224.64 \r\nL 361.725 224.64 \r\nL 361.725 7.2 \r\nL 26.925 7.2 \r\nz\r\n\" style=\"fill:#ffffff;\"/>\r\n   </g>\r\n   <g id=\"matplotlib.axis_1\">\r\n    <g id=\"xtick_1\">\r\n     <g id=\"line2d_1\">\r\n      <defs>\r\n       <path d=\"M 0 0 \r\nL 0 3.5 \r\n\" id=\"mbafe131c14\" style=\"stroke:#000000;stroke-width:0.8;\"/>\r\n      </defs>\r\n      <g>\r\n       <use style=\"stroke:#000000;stroke-width:0.8;\" x=\"40.967685\" xlink:href=\"#mbafe131c14\" y=\"224.64\"/>\r\n      </g>\r\n     </g>\r\n     <g id=\"text_1\">\r\n      <!-- 0.0 -->\r\n      <g transform=\"translate(33.016122 239.238437)scale(0.1 -0.1)\">\r\n       <defs>\r\n        <path d=\"M 31.78125 66.40625 \r\nQ 24.171875 66.40625 20.328125 58.90625 \r\nQ 16.5 51.421875 16.5 36.375 \r\nQ 16.5 21.390625 20.328125 13.890625 \r\nQ 24.171875 6.390625 31.78125 6.390625 \r\nQ 39.453125 6.390625 43.28125 13.890625 \r\nQ 47.125 21.390625 47.125 36.375 \r\nQ 47.125 51.421875 43.28125 58.90625 \r\nQ 39.453125 66.40625 31.78125 66.40625 \r\nz\r\nM 31.78125 74.21875 \r\nQ 44.046875 74.21875 50.515625 64.515625 \r\nQ 56.984375 54.828125 56.984375 36.375 \r\nQ 56.984375 17.96875 50.515625 8.265625 \r\nQ 44.046875 -1.421875 31.78125 -1.421875 \r\nQ 19.53125 -1.421875 13.0625 8.265625 \r\nQ 6.59375 17.96875 6.59375 36.375 \r\nQ 6.59375 54.828125 13.0625 64.515625 \r\nQ 19.53125 74.21875 31.78125 74.21875 \r\nz\r\n\" id=\"DejaVuSans-48\"/>\r\n        <path d=\"M 10.6875 12.40625 \r\nL 21 12.40625 \r\nL 21 0 \r\nL 10.6875 0 \r\nz\r\n\" id=\"DejaVuSans-46\"/>\r\n       </defs>\r\n       <use xlink:href=\"#DejaVuSans-48\"/>\r\n       <use x=\"63.623047\" xlink:href=\"#DejaVuSans-46\"/>\r\n       <use x=\"95.410156\" xlink:href=\"#DejaVuSans-48\"/>\r\n      </g>\r\n     </g>\r\n    </g>\r\n    <g id=\"xtick_2\">\r\n     <g id=\"line2d_2\">\r\n      <g>\r\n       <use style=\"stroke:#000000;stroke-width:0.8;\" x=\"93.509222\" xlink:href=\"#mbafe131c14\" y=\"224.64\"/>\r\n      </g>\r\n     </g>\r\n     <g id=\"text_2\">\r\n      <!-- 0.5 -->\r\n      <g transform=\"translate(85.557659 239.238437)scale(0.1 -0.1)\">\r\n       <defs>\r\n        <path d=\"M 10.796875 72.90625 \r\nL 49.515625 72.90625 \r\nL 49.515625 64.59375 \r\nL 19.828125 64.59375 \r\nL 19.828125 46.734375 \r\nQ 21.96875 47.46875 24.109375 47.828125 \r\nQ 26.265625 48.1875 28.421875 48.1875 \r\nQ 40.625 48.1875 47.75 41.5 \r\nQ 54.890625 34.8125 54.890625 23.390625 \r\nQ 54.890625 11.625 47.5625 5.09375 \r\nQ 40.234375 -1.421875 26.90625 -1.421875 \r\nQ 22.3125 -1.421875 17.546875 -0.640625 \r\nQ 12.796875 0.140625 7.71875 1.703125 \r\nL 7.71875 11.625 \r\nQ 12.109375 9.234375 16.796875 8.0625 \r\nQ 21.484375 6.890625 26.703125 6.890625 \r\nQ 35.15625 6.890625 40.078125 11.328125 \r\nQ 45.015625 15.765625 45.015625 23.390625 \r\nQ 45.015625 31 40.078125 35.4375 \r\nQ 35.15625 39.890625 26.703125 39.890625 \r\nQ 22.75 39.890625 18.8125 39.015625 \r\nQ 14.890625 38.140625 10.796875 36.28125 \r\nz\r\n\" id=\"DejaVuSans-53\"/>\r\n       </defs>\r\n       <use xlink:href=\"#DejaVuSans-48\"/>\r\n       <use x=\"63.623047\" xlink:href=\"#DejaVuSans-46\"/>\r\n       <use x=\"95.410156\" xlink:href=\"#DejaVuSans-53\"/>\r\n      </g>\r\n     </g>\r\n    </g>\r\n    <g id=\"xtick_3\">\r\n     <g id=\"line2d_3\">\r\n      <g>\r\n       <use style=\"stroke:#000000;stroke-width:0.8;\" x=\"146.050758\" xlink:href=\"#mbafe131c14\" y=\"224.64\"/>\r\n      </g>\r\n     </g>\r\n     <g id=\"text_3\">\r\n      <!-- 1.0 -->\r\n      <g transform=\"translate(138.099196 239.238437)scale(0.1 -0.1)\">\r\n       <defs>\r\n        <path d=\"M 12.40625 8.296875 \r\nL 28.515625 8.296875 \r\nL 28.515625 63.921875 \r\nL 10.984375 60.40625 \r\nL 10.984375 69.390625 \r\nL 28.421875 72.90625 \r\nL 38.28125 72.90625 \r\nL 38.28125 8.296875 \r\nL 54.390625 8.296875 \r\nL 54.390625 0 \r\nL 12.40625 0 \r\nz\r\n\" id=\"DejaVuSans-49\"/>\r\n       </defs>\r\n       <use xlink:href=\"#DejaVuSans-49\"/>\r\n       <use x=\"63.623047\" xlink:href=\"#DejaVuSans-46\"/>\r\n       <use x=\"95.410156\" xlink:href=\"#DejaVuSans-48\"/>\r\n      </g>\r\n     </g>\r\n    </g>\r\n    <g id=\"xtick_4\">\r\n     <g id=\"line2d_4\">\r\n      <g>\r\n       <use style=\"stroke:#000000;stroke-width:0.8;\" x=\"198.592295\" xlink:href=\"#mbafe131c14\" y=\"224.64\"/>\r\n      </g>\r\n     </g>\r\n     <g id=\"text_4\">\r\n      <!-- 1.5 -->\r\n      <g transform=\"translate(190.640733 239.238437)scale(0.1 -0.1)\">\r\n       <use xlink:href=\"#DejaVuSans-49\"/>\r\n       <use x=\"63.623047\" xlink:href=\"#DejaVuSans-46\"/>\r\n       <use x=\"95.410156\" xlink:href=\"#DejaVuSans-53\"/>\r\n      </g>\r\n     </g>\r\n    </g>\r\n    <g id=\"xtick_5\">\r\n     <g id=\"line2d_5\">\r\n      <g>\r\n       <use style=\"stroke:#000000;stroke-width:0.8;\" x=\"251.133832\" xlink:href=\"#mbafe131c14\" y=\"224.64\"/>\r\n      </g>\r\n     </g>\r\n     <g id=\"text_5\">\r\n      <!-- 2.0 -->\r\n      <g transform=\"translate(243.18227 239.238437)scale(0.1 -0.1)\">\r\n       <defs>\r\n        <path d=\"M 19.1875 8.296875 \r\nL 53.609375 8.296875 \r\nL 53.609375 0 \r\nL 7.328125 0 \r\nL 7.328125 8.296875 \r\nQ 12.9375 14.109375 22.625 23.890625 \r\nQ 32.328125 33.6875 34.8125 36.53125 \r\nQ 39.546875 41.84375 41.421875 45.53125 \r\nQ 43.3125 49.21875 43.3125 52.78125 \r\nQ 43.3125 58.59375 39.234375 62.25 \r\nQ 35.15625 65.921875 28.609375 65.921875 \r\nQ 23.96875 65.921875 18.8125 64.3125 \r\nQ 13.671875 62.703125 7.8125 59.421875 \r\nL 7.8125 69.390625 \r\nQ 13.765625 71.78125 18.9375 73 \r\nQ 24.125 74.21875 28.421875 74.21875 \r\nQ 39.75 74.21875 46.484375 68.546875 \r\nQ 53.21875 62.890625 53.21875 53.421875 \r\nQ 53.21875 48.921875 51.53125 44.890625 \r\nQ 49.859375 40.875 45.40625 35.40625 \r\nQ 44.1875 33.984375 37.640625 27.21875 \r\nQ 31.109375 20.453125 19.1875 8.296875 \r\nz\r\n\" id=\"DejaVuSans-50\"/>\r\n       </defs>\r\n       <use xlink:href=\"#DejaVuSans-50\"/>\r\n       <use x=\"63.623047\" xlink:href=\"#DejaVuSans-46\"/>\r\n       <use x=\"95.410156\" xlink:href=\"#DejaVuSans-48\"/>\r\n      </g>\r\n     </g>\r\n    </g>\r\n    <g id=\"xtick_6\">\r\n     <g id=\"line2d_6\">\r\n      <g>\r\n       <use style=\"stroke:#000000;stroke-width:0.8;\" x=\"303.675369\" xlink:href=\"#mbafe131c14\" y=\"224.64\"/>\r\n      </g>\r\n     </g>\r\n     <g id=\"text_6\">\r\n      <!-- 2.5 -->\r\n      <g transform=\"translate(295.723807 239.238437)scale(0.1 -0.1)\">\r\n       <use xlink:href=\"#DejaVuSans-50\"/>\r\n       <use x=\"63.623047\" xlink:href=\"#DejaVuSans-46\"/>\r\n       <use x=\"95.410156\" xlink:href=\"#DejaVuSans-53\"/>\r\n      </g>\r\n     </g>\r\n    </g>\r\n    <g id=\"xtick_7\">\r\n     <g id=\"line2d_7\">\r\n      <g>\r\n       <use style=\"stroke:#000000;stroke-width:0.8;\" x=\"356.216906\" xlink:href=\"#mbafe131c14\" y=\"224.64\"/>\r\n      </g>\r\n     </g>\r\n     <g id=\"text_7\">\r\n      <!-- 3.0 -->\r\n      <g transform=\"translate(348.265344 239.238437)scale(0.1 -0.1)\">\r\n       <defs>\r\n        <path d=\"M 40.578125 39.3125 \r\nQ 47.65625 37.796875 51.625 33 \r\nQ 55.609375 28.21875 55.609375 21.1875 \r\nQ 55.609375 10.40625 48.1875 4.484375 \r\nQ 40.765625 -1.421875 27.09375 -1.421875 \r\nQ 22.515625 -1.421875 17.65625 -0.515625 \r\nQ 12.796875 0.390625 7.625 2.203125 \r\nL 7.625 11.71875 \r\nQ 11.71875 9.328125 16.59375 8.109375 \r\nQ 21.484375 6.890625 26.8125 6.890625 \r\nQ 36.078125 6.890625 40.9375 10.546875 \r\nQ 45.796875 14.203125 45.796875 21.1875 \r\nQ 45.796875 27.640625 41.28125 31.265625 \r\nQ 36.765625 34.90625 28.71875 34.90625 \r\nL 20.21875 34.90625 \r\nL 20.21875 43.015625 \r\nL 29.109375 43.015625 \r\nQ 36.375 43.015625 40.234375 45.921875 \r\nQ 44.09375 48.828125 44.09375 54.296875 \r\nQ 44.09375 59.90625 40.109375 62.90625 \r\nQ 36.140625 65.921875 28.71875 65.921875 \r\nQ 24.65625 65.921875 20.015625 65.03125 \r\nQ 15.375 64.15625 9.8125 62.3125 \r\nL 9.8125 71.09375 \r\nQ 15.4375 72.65625 20.34375 73.4375 \r\nQ 25.25 74.21875 29.59375 74.21875 \r\nQ 40.828125 74.21875 47.359375 69.109375 \r\nQ 53.90625 64.015625 53.90625 55.328125 \r\nQ 53.90625 49.265625 50.4375 45.09375 \r\nQ 46.96875 40.921875 40.578125 39.3125 \r\nz\r\n\" id=\"DejaVuSans-51\"/>\r\n       </defs>\r\n       <use xlink:href=\"#DejaVuSans-51\"/>\r\n       <use x=\"63.623047\" xlink:href=\"#DejaVuSans-46\"/>\r\n       <use x=\"95.410156\" xlink:href=\"#DejaVuSans-48\"/>\r\n      </g>\r\n     </g>\r\n    </g>\r\n   </g>\r\n   <g id=\"matplotlib.axis_2\">\r\n    <g id=\"ytick_1\">\r\n     <g id=\"line2d_8\">\r\n      <defs>\r\n       <path d=\"M 0 0 \r\nL -3.5 0 \r\n\" id=\"m7197f7000b\" style=\"stroke:#000000;stroke-width:0.8;\"/>\r\n      </defs>\r\n      <g>\r\n       <use style=\"stroke:#000000;stroke-width:0.8;\" x=\"26.925\" xlink:href=\"#m7197f7000b\" y=\"211.862578\"/>\r\n      </g>\r\n     </g>\r\n     <g id=\"text_8\">\r\n      <!-- 4 -->\r\n      <g transform=\"translate(13.5625 215.661796)scale(0.1 -0.1)\">\r\n       <defs>\r\n        <path d=\"M 37.796875 64.3125 \r\nL 12.890625 25.390625 \r\nL 37.796875 25.390625 \r\nz\r\nM 35.203125 72.90625 \r\nL 47.609375 72.90625 \r\nL 47.609375 25.390625 \r\nL 58.015625 25.390625 \r\nL 58.015625 17.1875 \r\nL 47.609375 17.1875 \r\nL 47.609375 0 \r\nL 37.796875 0 \r\nL 37.796875 17.1875 \r\nL 4.890625 17.1875 \r\nL 4.890625 26.703125 \r\nz\r\n\" id=\"DejaVuSans-52\"/>\r\n       </defs>\r\n       <use xlink:href=\"#DejaVuSans-52\"/>\r\n      </g>\r\n     </g>\r\n    </g>\r\n    <g id=\"ytick_2\">\r\n     <g id=\"line2d_9\">\r\n      <g>\r\n       <use style=\"stroke:#000000;stroke-width:0.8;\" x=\"26.925\" xlink:href=\"#m7197f7000b\" y=\"184.799537\"/>\r\n      </g>\r\n     </g>\r\n     <g id=\"text_9\">\r\n      <!-- 6 -->\r\n      <g transform=\"translate(13.5625 188.598756)scale(0.1 -0.1)\">\r\n       <defs>\r\n        <path d=\"M 33.015625 40.375 \r\nQ 26.375 40.375 22.484375 35.828125 \r\nQ 18.609375 31.296875 18.609375 23.390625 \r\nQ 18.609375 15.53125 22.484375 10.953125 \r\nQ 26.375 6.390625 33.015625 6.390625 \r\nQ 39.65625 6.390625 43.53125 10.953125 \r\nQ 47.40625 15.53125 47.40625 23.390625 \r\nQ 47.40625 31.296875 43.53125 35.828125 \r\nQ 39.65625 40.375 33.015625 40.375 \r\nz\r\nM 52.59375 71.296875 \r\nL 52.59375 62.3125 \r\nQ 48.875 64.0625 45.09375 64.984375 \r\nQ 41.3125 65.921875 37.59375 65.921875 \r\nQ 27.828125 65.921875 22.671875 59.328125 \r\nQ 17.53125 52.734375 16.796875 39.40625 \r\nQ 19.671875 43.65625 24.015625 45.921875 \r\nQ 28.375 48.1875 33.59375 48.1875 \r\nQ 44.578125 48.1875 50.953125 41.515625 \r\nQ 57.328125 34.859375 57.328125 23.390625 \r\nQ 57.328125 12.15625 50.6875 5.359375 \r\nQ 44.046875 -1.421875 33.015625 -1.421875 \r\nQ 20.359375 -1.421875 13.671875 8.265625 \r\nQ 6.984375 17.96875 6.984375 36.375 \r\nQ 6.984375 53.65625 15.1875 63.9375 \r\nQ 23.390625 74.21875 37.203125 74.21875 \r\nQ 40.921875 74.21875 44.703125 73.484375 \r\nQ 48.484375 72.75 52.59375 71.296875 \r\nz\r\n\" id=\"DejaVuSans-54\"/>\r\n       </defs>\r\n       <use xlink:href=\"#DejaVuSans-54\"/>\r\n      </g>\r\n     </g>\r\n    </g>\r\n    <g id=\"ytick_3\">\r\n     <g id=\"line2d_10\">\r\n      <g>\r\n       <use style=\"stroke:#000000;stroke-width:0.8;\" x=\"26.925\" xlink:href=\"#m7197f7000b\" y=\"157.736497\"/>\r\n      </g>\r\n     </g>\r\n     <g id=\"text_10\">\r\n      <!-- 8 -->\r\n      <g transform=\"translate(13.5625 161.535715)scale(0.1 -0.1)\">\r\n       <defs>\r\n        <path d=\"M 31.78125 34.625 \r\nQ 24.75 34.625 20.71875 30.859375 \r\nQ 16.703125 27.09375 16.703125 20.515625 \r\nQ 16.703125 13.921875 20.71875 10.15625 \r\nQ 24.75 6.390625 31.78125 6.390625 \r\nQ 38.8125 6.390625 42.859375 10.171875 \r\nQ 46.921875 13.96875 46.921875 20.515625 \r\nQ 46.921875 27.09375 42.890625 30.859375 \r\nQ 38.875 34.625 31.78125 34.625 \r\nz\r\nM 21.921875 38.8125 \r\nQ 15.578125 40.375 12.03125 44.71875 \r\nQ 8.5 49.078125 8.5 55.328125 \r\nQ 8.5 64.0625 14.71875 69.140625 \r\nQ 20.953125 74.21875 31.78125 74.21875 \r\nQ 42.671875 74.21875 48.875 69.140625 \r\nQ 55.078125 64.0625 55.078125 55.328125 \r\nQ 55.078125 49.078125 51.53125 44.71875 \r\nQ 48 40.375 41.703125 38.8125 \r\nQ 48.828125 37.15625 52.796875 32.3125 \r\nQ 56.78125 27.484375 56.78125 20.515625 \r\nQ 56.78125 9.90625 50.3125 4.234375 \r\nQ 43.84375 -1.421875 31.78125 -1.421875 \r\nQ 19.734375 -1.421875 13.25 4.234375 \r\nQ 6.78125 9.90625 6.78125 20.515625 \r\nQ 6.78125 27.484375 10.78125 32.3125 \r\nQ 14.796875 37.15625 21.921875 38.8125 \r\nz\r\nM 18.3125 54.390625 \r\nQ 18.3125 48.734375 21.84375 45.5625 \r\nQ 25.390625 42.390625 31.78125 42.390625 \r\nQ 38.140625 42.390625 41.71875 45.5625 \r\nQ 45.3125 48.734375 45.3125 54.390625 \r\nQ 45.3125 60.0625 41.71875 63.234375 \r\nQ 38.140625 66.40625 31.78125 66.40625 \r\nQ 25.390625 66.40625 21.84375 63.234375 \r\nQ 18.3125 60.0625 18.3125 54.390625 \r\nz\r\n\" id=\"DejaVuSans-56\"/>\r\n       </defs>\r\n       <use xlink:href=\"#DejaVuSans-56\"/>\r\n      </g>\r\n     </g>\r\n    </g>\r\n    <g id=\"ytick_4\">\r\n     <g id=\"line2d_11\">\r\n      <g>\r\n       <use style=\"stroke:#000000;stroke-width:0.8;\" x=\"26.925\" xlink:href=\"#m7197f7000b\" y=\"130.673456\"/>\r\n      </g>\r\n     </g>\r\n     <g id=\"text_11\">\r\n      <!-- 10 -->\r\n      <g transform=\"translate(7.2 134.472675)scale(0.1 -0.1)\">\r\n       <use xlink:href=\"#DejaVuSans-49\"/>\r\n       <use x=\"63.623047\" xlink:href=\"#DejaVuSans-48\"/>\r\n      </g>\r\n     </g>\r\n    </g>\r\n    <g id=\"ytick_5\">\r\n     <g id=\"line2d_12\">\r\n      <g>\r\n       <use style=\"stroke:#000000;stroke-width:0.8;\" x=\"26.925\" xlink:href=\"#m7197f7000b\" y=\"103.610415\"/>\r\n      </g>\r\n     </g>\r\n     <g id=\"text_12\">\r\n      <!-- 12 -->\r\n      <g transform=\"translate(7.2 107.409634)scale(0.1 -0.1)\">\r\n       <use xlink:href=\"#DejaVuSans-49\"/>\r\n       <use x=\"63.623047\" xlink:href=\"#DejaVuSans-50\"/>\r\n      </g>\r\n     </g>\r\n    </g>\r\n    <g id=\"ytick_6\">\r\n     <g id=\"line2d_13\">\r\n      <g>\r\n       <use style=\"stroke:#000000;stroke-width:0.8;\" x=\"26.925\" xlink:href=\"#m7197f7000b\" y=\"76.547375\"/>\r\n      </g>\r\n     </g>\r\n     <g id=\"text_13\">\r\n      <!-- 14 -->\r\n      <g transform=\"translate(7.2 80.346594)scale(0.1 -0.1)\">\r\n       <use xlink:href=\"#DejaVuSans-49\"/>\r\n       <use x=\"63.623047\" xlink:href=\"#DejaVuSans-52\"/>\r\n      </g>\r\n     </g>\r\n    </g>\r\n    <g id=\"ytick_7\">\r\n     <g id=\"line2d_14\">\r\n      <g>\r\n       <use style=\"stroke:#000000;stroke-width:0.8;\" x=\"26.925\" xlink:href=\"#m7197f7000b\" y=\"49.484334\"/>\r\n      </g>\r\n     </g>\r\n     <g id=\"text_14\">\r\n      <!-- 16 -->\r\n      <g transform=\"translate(7.2 53.283553)scale(0.1 -0.1)\">\r\n       <use xlink:href=\"#DejaVuSans-49\"/>\r\n       <use x=\"63.623047\" xlink:href=\"#DejaVuSans-54\"/>\r\n      </g>\r\n     </g>\r\n    </g>\r\n    <g id=\"ytick_8\">\r\n     <g id=\"line2d_15\">\r\n      <g>\r\n       <use style=\"stroke:#000000;stroke-width:0.8;\" x=\"26.925\" xlink:href=\"#m7197f7000b\" y=\"22.421294\"/>\r\n      </g>\r\n     </g>\r\n     <g id=\"text_15\">\r\n      <!-- 18 -->\r\n      <g transform=\"translate(7.2 26.220512)scale(0.1 -0.1)\">\r\n       <use xlink:href=\"#DejaVuSans-49\"/>\r\n       <use x=\"63.623047\" xlink:href=\"#DejaVuSans-56\"/>\r\n      </g>\r\n     </g>\r\n    </g>\r\n   </g>\r\n   <g id=\"line2d_16\">\r\n    <defs>\r\n     <path d=\"M 0 1.5 \r\nC 0.397805 1.5 0.77937 1.341951 1.06066 1.06066 \r\nC 1.341951 0.77937 1.5 0.397805 1.5 0 \r\nC 1.5 -0.397805 1.341951 -0.77937 1.06066 -1.06066 \r\nC 0.77937 -1.341951 0.397805 -1.5 0 -1.5 \r\nC -0.397805 -1.5 -0.77937 -1.341951 -1.06066 -1.06066 \r\nC -1.341951 -0.77937 -1.5 -0.397805 -1.5 0 \r\nC -1.5 0.397805 -1.341951 0.77937 -1.06066 1.06066 \r\nC -0.77937 1.341951 -0.397805 1.5 0 1.5 \r\nz\r\n\" id=\"me2ef4fa67e\" style=\"stroke:#ff0000;\"/>\r\n    </defs>\r\n    <g clip-path=\"url(#p733b40a0cc)\">\r\n     <use style=\"fill:#ff0000;stroke:#ff0000;\" x=\"114.811731\" xlink:href=\"#me2ef4fa67e\" y=\"165.122982\"/>\r\n     <use style=\"fill:#ff0000;stroke:#ff0000;\" x=\"161.080189\" xlink:href=\"#me2ef4fa67e\" y=\"165.210894\"/>\r\n     <use style=\"fill:#ff0000;stroke:#ff0000;\" x=\"321.321597\" xlink:href=\"#me2ef4fa67e\" y=\"54.658549\"/>\r\n     <use style=\"fill:#ff0000;stroke:#ff0000;\" x=\"61.029472\" xlink:href=\"#me2ef4fa67e\" y=\"207.442736\"/>\r\n     <use style=\"fill:#ff0000;stroke:#ff0000;\" x=\"260.631691\" xlink:href=\"#me2ef4fa67e\" y=\"67.393402\"/>\r\n     <use style=\"fill:#ff0000;stroke:#ff0000;\" x=\"61.194535\" xlink:href=\"#me2ef4fa67e\" y=\"176.557322\"/>\r\n     <use style=\"fill:#ff0000;stroke:#ff0000;\" x=\"175.36114\" xlink:href=\"#me2ef4fa67e\" y=\"144.439942\"/>\r\n     <use style=\"fill:#ff0000;stroke:#ff0000;\" x=\"225.522665\" xlink:href=\"#me2ef4fa67e\" y=\"93.930343\"/>\r\n     <use style=\"fill:#ff0000;stroke:#ff0000;\" x=\"85.069707\" xlink:href=\"#me2ef4fa67e\" y=\"184.064232\"/>\r\n     <use style=\"fill:#ff0000;stroke:#ff0000;\" x=\"233.574067\" xlink:href=\"#me2ef4fa67e\" y=\"111.089553\"/>\r\n     <use style=\"fill:#ff0000;stroke:#ff0000;\" x=\"329.675791\" xlink:href=\"#me2ef4fa67e\" y=\"60.726864\"/>\r\n     <use style=\"fill:#ff0000;stroke:#ff0000;\" x=\"264.103761\" xlink:href=\"#me2ef4fa67e\" y=\"61.679112\"/>\r\n     <use style=\"fill:#ff0000;stroke:#ff0000;\" x=\"196.038009\" xlink:href=\"#me2ef4fa67e\" y=\"115.893265\"/>\r\n     <use style=\"fill:#ff0000;stroke:#ff0000;\" x=\"132.854984\" xlink:href=\"#me2ef4fa67e\" y=\"161.982271\"/>\r\n     <use style=\"fill:#ff0000;stroke:#ff0000;\" x=\"134.385609\" xlink:href=\"#me2ef4fa67e\" y=\"147.039613\"/>\r\n     <use style=\"fill:#ff0000;stroke:#ff0000;\" x=\"333.59076\" xlink:href=\"#me2ef4fa67e\" y=\"38.22889\"/>\r\n     <use style=\"fill:#ff0000;stroke:#ff0000;\" x=\"207.232131\" xlink:href=\"#me2ef4fa67e\" y=\"118.78026\"/>\r\n     <use style=\"fill:#ff0000;stroke:#ff0000;\" x=\"231.767489\" xlink:href=\"#me2ef4fa67e\" y=\"88.933539\"/>\r\n     <use style=\"fill:#ff0000;stroke:#ff0000;\" x=\"214.120636\" xlink:href=\"#me2ef4fa67e\" y=\"76.113956\"/>\r\n     <use style=\"fill:#ff0000;stroke:#ff0000;\" x=\"68.060178\" xlink:href=\"#me2ef4fa67e\" y=\"186.827793\"/>\r\n     <use style=\"fill:#ff0000;stroke:#ff0000;\" x=\"224.035308\" xlink:href=\"#me2ef4fa67e\" y=\"93.230953\"/>\r\n     <use style=\"fill:#ff0000;stroke:#ff0000;\" x=\"302.58519\" xlink:href=\"#me2ef4fa67e\" y=\"50.788763\"/>\r\n     <use style=\"fill:#ff0000;stroke:#ff0000;\" x=\"120.294232\" xlink:href=\"#me2ef4fa67e\" y=\"144.966444\"/>\r\n     <use style=\"fill:#ff0000;stroke:#ff0000;\" x=\"91.649044\" xlink:href=\"#me2ef4fa67e\" y=\"168.923238\"/>\r\n     <use style=\"fill:#ff0000;stroke:#ff0000;\" x=\"323.538572\" xlink:href=\"#me2ef4fa67e\" y=\"35.17729\"/>\r\n     <use style=\"fill:#ff0000;stroke:#ff0000;\" x=\"251.279478\" xlink:href=\"#me2ef4fa67e\" y=\"109.735894\"/>\r\n     <use style=\"fill:#ff0000;stroke:#ff0000;\" x=\"251.019643\" xlink:href=\"#me2ef4fa67e\" y=\"128.076\"/>\r\n     <use style=\"fill:#ff0000;stroke:#ff0000;\" x=\"92.122877\" xlink:href=\"#me2ef4fa67e\" y=\"168.977242\"/>\r\n     <use style=\"fill:#ff0000;stroke:#ff0000;\" x=\"251.238596\" xlink:href=\"#me2ef4fa67e\" y=\"73.912535\"/>\r\n     <use style=\"fill:#ff0000;stroke:#ff0000;\" x=\"339.546008\" xlink:href=\"#me2ef4fa67e\" y=\"43.194713\"/>\r\n     <use style=\"fill:#ff0000;stroke:#ff0000;\" x=\"149.322977\" xlink:href=\"#me2ef4fa67e\" y=\"128.932215\"/>\r\n     <use style=\"fill:#ff0000;stroke:#ff0000;\" x=\"67.629302\" xlink:href=\"#me2ef4fa67e\" y=\"180.24027\"/>\r\n     <use style=\"fill:#ff0000;stroke:#ff0000;\" x=\"217.709854\" xlink:href=\"#me2ef4fa67e\" y=\"104.542877\"/>\r\n     <use style=\"fill:#ff0000;stroke:#ff0000;\" x=\"246.588199\" xlink:href=\"#me2ef4fa67e\" y=\"112.078099\"/>\r\n     <use style=\"fill:#ff0000;stroke:#ff0000;\" x=\"267.043137\" xlink:href=\"#me2ef4fa67e\" y=\"100.575877\"/>\r\n     <use style=\"fill:#ff0000;stroke:#ff0000;\" x=\"336.357369\" xlink:href=\"#me2ef4fa67e\" y=\"41.995106\"/>\r\n     <use style=\"fill:#ff0000;stroke:#ff0000;\" x=\"340.105262\" xlink:href=\"#me2ef4fa67e\" y=\"43.141585\"/>\r\n     <use style=\"fill:#ff0000;stroke:#ff0000;\" x=\"254.748953\" xlink:href=\"#me2ef4fa67e\" y=\"89.53877\"/>\r\n     <use style=\"fill:#ff0000;stroke:#ff0000;\" x=\"80.312298\" xlink:href=\"#me2ef4fa67e\" y=\"183.16828\"/>\r\n     <use style=\"fill:#ff0000;stroke:#ff0000;\" x=\"169.769026\" xlink:href=\"#me2ef4fa67e\" y=\"110.184676\"/>\r\n     <use style=\"fill:#ff0000;stroke:#ff0000;\" x=\"334.368072\" xlink:href=\"#me2ef4fa67e\" y=\"47.160011\"/>\r\n     <use style=\"fill:#ff0000;stroke:#ff0000;\" x=\"189.270879\" xlink:href=\"#me2ef4fa67e\" y=\"116.88581\"/>\r\n     <use style=\"fill:#ff0000;stroke:#ff0000;\" x=\"338.64972\" xlink:href=\"#me2ef4fa67e\" y=\"37.017649\"/>\r\n     <use style=\"fill:#ff0000;stroke:#ff0000;\" x=\"346.506818\" xlink:href=\"#me2ef4fa67e\" y=\"50.054301\"/>\r\n     <use style=\"fill:#ff0000;stroke:#ff0000;\" x=\"324.591428\" xlink:href=\"#me2ef4fa67e\" y=\"32.771696\"/>\r\n     <use style=\"fill:#ff0000;stroke:#ff0000;\" x=\"258.004234\" xlink:href=\"#me2ef4fa67e\" y=\"64.780166\"/>\r\n     <use style=\"fill:#ff0000;stroke:#ff0000;\" x=\"203.135817\" xlink:href=\"#me2ef4fa67e\" y=\"139.539535\"/>\r\n     <use style=\"fill:#ff0000;stroke:#ff0000;\" x=\"124.184456\" xlink:href=\"#me2ef4fa67e\" y=\"160.285252\"/>\r\n     <use style=\"fill:#ff0000;stroke:#ff0000;\" x=\"79.207148\" xlink:href=\"#me2ef4fa67e\" y=\"179.510847\"/>\r\n     <use style=\"fill:#ff0000;stroke:#ff0000;\" x=\"43.795215\" xlink:href=\"#me2ef4fa67e\" y=\"187.644082\"/>\r\n     <use style=\"fill:#ff0000;stroke:#ff0000;\" x=\"132.796201\" xlink:href=\"#me2ef4fa67e\" y=\"155.474665\"/>\r\n     <use style=\"fill:#ff0000;stroke:#ff0000;\" x=\"42.608384\" xlink:href=\"#me2ef4fa67e\" y=\"189.914262\"/>\r\n     <use style=\"fill:#ff0000;stroke:#ff0000;\" x=\"104.324021\" xlink:href=\"#me2ef4fa67e\" y=\"154.501157\"/>\r\n     <use style=\"fill:#ff0000;stroke:#ff0000;\" x=\"149.826278\" xlink:href=\"#me2ef4fa67e\" y=\"158.072441\"/>\r\n     <use style=\"fill:#ff0000;stroke:#ff0000;\" x=\"336.744278\" xlink:href=\"#me2ef4fa67e\" y=\"65.732116\"/>\r\n     <use style=\"fill:#ff0000;stroke:#ff0000;\" x=\"58.66931\" xlink:href=\"#me2ef4fa67e\" y=\"214.756364\"/>\r\n     <use style=\"fill:#ff0000;stroke:#ff0000;\" x=\"114.916192\" xlink:href=\"#me2ef4fa67e\" y=\"162.077201\"/>\r\n     <use style=\"fill:#ff0000;stroke:#ff0000;\" x=\"242.979638\" xlink:href=\"#me2ef4fa67e\" y=\"81.984136\"/>\r\n     <use style=\"fill:#ff0000;stroke:#ff0000;\" x=\"275.581074\" xlink:href=\"#me2ef4fa67e\" y=\"82.254033\"/>\r\n     <use style=\"fill:#ff0000;stroke:#ff0000;\" x=\"324.404302\" xlink:href=\"#me2ef4fa67e\" y=\"26.418323\"/>\r\n     <use style=\"fill:#ff0000;stroke:#ff0000;\" x=\"218.976014\" xlink:href=\"#me2ef4fa67e\" y=\"95.493075\"/>\r\n     <use style=\"fill:#ff0000;stroke:#ff0000;\" x=\"144.681618\" xlink:href=\"#me2ef4fa67e\" y=\"133.038186\"/>\r\n     <use style=\"fill:#ff0000;stroke:#ff0000;\" x=\"50.106727\" xlink:href=\"#me2ef4fa67e\" y=\"185.386378\"/>\r\n     <use style=\"fill:#ff0000;stroke:#ff0000;\" x=\"344.579423\" xlink:href=\"#me2ef4fa67e\" y=\"37.348699\"/>\r\n     <use style=\"fill:#ff0000;stroke:#ff0000;\" x=\"329.635541\" xlink:href=\"#me2ef4fa67e\" y=\"42.880032\"/>\r\n     <use style=\"fill:#ff0000;stroke:#ff0000;\" x=\"301.961305\" xlink:href=\"#me2ef4fa67e\" y=\"57.711458\"/>\r\n     <use style=\"fill:#ff0000;stroke:#ff0000;\" x=\"103.695661\" xlink:href=\"#me2ef4fa67e\" y=\"173.875615\"/>\r\n     <use style=\"fill:#ff0000;stroke:#ff0000;\" x=\"55.487741\" xlink:href=\"#me2ef4fa67e\" y=\"158.919202\"/>\r\n     <use style=\"fill:#ff0000;stroke:#ff0000;\" x=\"179.35747\" xlink:href=\"#me2ef4fa67e\" y=\"130.735223\"/>\r\n     <use style=\"fill:#ff0000;stroke:#ff0000;\" x=\"134.765229\" xlink:href=\"#me2ef4fa67e\" y=\"151.210588\"/>\r\n     <use style=\"fill:#ff0000;stroke:#ff0000;\" x=\"124.532623\" xlink:href=\"#me2ef4fa67e\" y=\"149.569023\"/>\r\n     <use style=\"fill:#ff0000;stroke:#ff0000;\" x=\"98.488076\" xlink:href=\"#me2ef4fa67e\" y=\"191.611643\"/>\r\n     <use style=\"fill:#ff0000;stroke:#ff0000;\" x=\"226.392221\" xlink:href=\"#me2ef4fa67e\" y=\"126.26588\"/>\r\n     <use style=\"fill:#ff0000;stroke:#ff0000;\" x=\"217.550896\" xlink:href=\"#me2ef4fa67e\" y=\"102.110461\"/>\r\n     <use style=\"fill:#ff0000;stroke:#ff0000;\" x=\"146.565496\" xlink:href=\"#me2ef4fa67e\" y=\"150.149588\"/>\r\n     <use style=\"fill:#ff0000;stroke:#ff0000;\" x=\"170.840779\" xlink:href=\"#me2ef4fa67e\" y=\"114.95513\"/>\r\n     <use style=\"fill:#ff0000;stroke:#ff0000;\" x=\"214.927957\" xlink:href=\"#me2ef4fa67e\" y=\"112.071657\"/>\r\n     <use style=\"fill:#ff0000;stroke:#ff0000;\" x=\"278.503001\" xlink:href=\"#me2ef4fa67e\" y=\"76.425018\"/>\r\n     <use style=\"fill:#ff0000;stroke:#ff0000;\" x=\"331.323685\" xlink:href=\"#me2ef4fa67e\" y=\"54.772754\"/>\r\n     <use style=\"fill:#ff0000;stroke:#ff0000;\" x=\"254.181649\" xlink:href=\"#me2ef4fa67e\" y=\"108.161433\"/>\r\n     <use style=\"fill:#ff0000;stroke:#ff0000;\" x=\"166.839253\" xlink:href=\"#me2ef4fa67e\" y=\"120.351909\"/>\r\n     <use style=\"fill:#ff0000;stroke:#ff0000;\" x=\"265.439467\" xlink:href=\"#me2ef4fa67e\" y=\"89.788712\"/>\r\n     <use style=\"fill:#ff0000;stroke:#ff0000;\" x=\"42.143182\" xlink:href=\"#me2ef4fa67e\" y=\"181.630947\"/>\r\n     <use style=\"fill:#ff0000;stroke:#ff0000;\" x=\"239.654174\" xlink:href=\"#me2ef4fa67e\" y=\"110.013754\"/>\r\n     <use style=\"fill:#ff0000;stroke:#ff0000;\" x=\"344.27723\" xlink:href=\"#me2ef4fa67e\" y=\"44.818671\"/>\r\n     <use style=\"fill:#ff0000;stroke:#ff0000;\" x=\"296.398641\" xlink:href=\"#me2ef4fa67e\" y=\"64.119419\"/>\r\n     <use style=\"fill:#ff0000;stroke:#ff0000;\" x=\"291.939451\" xlink:href=\"#me2ef4fa67e\" y=\"91.568973\"/>\r\n     <use style=\"fill:#ff0000;stroke:#ff0000;\" x=\"331.146742\" xlink:href=\"#me2ef4fa67e\" y=\"34.886905\"/>\r\n     <use style=\"fill:#ff0000;stroke:#ff0000;\" x=\"280.480417\" xlink:href=\"#me2ef4fa67e\" y=\"67.419055\"/>\r\n     <use style=\"fill:#ff0000;stroke:#ff0000;\" x=\"125.391244\" xlink:href=\"#me2ef4fa67e\" y=\"159.684282\"/>\r\n     <use style=\"fill:#ff0000;stroke:#ff0000;\" x=\"261.551832\" xlink:href=\"#me2ef4fa67e\" y=\"106.514234\"/>\r\n     <use style=\"fill:#ff0000;stroke:#ff0000;\" x=\"102.736311\" xlink:href=\"#me2ef4fa67e\" y=\"175.376684\"/>\r\n     <use style=\"fill:#ff0000;stroke:#ff0000;\" x=\"190.530011\" xlink:href=\"#me2ef4fa67e\" y=\"100.668081\"/>\r\n     <use style=\"fill:#ff0000;stroke:#ff0000;\" x=\"229.045455\" xlink:href=\"#me2ef4fa67e\" y=\"114.718924\"/>\r\n     <use style=\"fill:#ff0000;stroke:#ff0000;\" x=\"140.474022\" xlink:href=\"#me2ef4fa67e\" y=\"128.080598\"/>\r\n     <use style=\"fill:#ff0000;stroke:#ff0000;\" x=\"74.364576\" xlink:href=\"#me2ef4fa67e\" y=\"191.126184\"/>\r\n     <use style=\"fill:#ff0000;stroke:#ff0000;\" x=\"160.928782\" xlink:href=\"#me2ef4fa67e\" y=\"149.691022\"/>\r\n     <use style=\"fill:#ff0000;stroke:#ff0000;\" x=\"137.834179\" xlink:href=\"#me2ef4fa67e\" y=\"164.717886\"/>\r\n     <use style=\"fill:#ff0000;stroke:#ff0000;\" x=\"230.757331\" xlink:href=\"#me2ef4fa67e\" y=\"100.641328\"/>\r\n     <use style=\"fill:#ff0000;stroke:#ff0000;\" x=\"323.724024\" xlink:href=\"#me2ef4fa67e\" y=\"17.083636\"/>\r\n    </g>\r\n   </g>\r\n   <g id=\"patch_3\">\r\n    <path d=\"M 26.925 224.64 \r\nL 26.925 7.2 \r\n\" style=\"fill:none;stroke:#000000;stroke-linecap:square;stroke-linejoin:miter;stroke-width:0.8;\"/>\r\n   </g>\r\n   <g id=\"patch_4\">\r\n    <path d=\"M 361.725 224.64 \r\nL 361.725 7.2 \r\n\" style=\"fill:none;stroke:#000000;stroke-linecap:square;stroke-linejoin:miter;stroke-width:0.8;\"/>\r\n   </g>\r\n   <g id=\"patch_5\">\r\n    <path d=\"M 26.925 224.64 \r\nL 361.725 224.64 \r\n\" style=\"fill:none;stroke:#000000;stroke-linecap:square;stroke-linejoin:miter;stroke-width:0.8;\"/>\r\n   </g>\r\n   <g id=\"patch_6\">\r\n    <path d=\"M 26.925 7.2 \r\nL 361.725 7.2 \r\n\" style=\"fill:none;stroke:#000000;stroke-linecap:square;stroke-linejoin:miter;stroke-width:0.8;\"/>\r\n   </g>\r\n  </g>\r\n </g>\r\n <defs>\r\n  <clipPath id=\"p733b40a0cc\">\r\n   <rect height=\"217.44\" width=\"334.8\" x=\"26.925\" y=\"7.2\"/>\r\n  </clipPath>\r\n </defs>\r\n</svg>\r\n",
      "image/png": "[encoded data removed]"
     },
     "metadata": {
      "needs_background": "light"
     }
    }
   ],
   "source": [
    "# generation of test data\n",
    "X = 3 * np.random.rand(100, 1) # ~(100, 1)\n",
    "y = 5 + 4 * X + np.random.randn(100, 1) # ~(100, 1)\n",
    "plt.plot(X, y, '.r')"
   ]
  },
  {
   "source": [
    "$$ c = \\bar{y} - m \\bar{x} $$\n",
    "$$ m = \\frac{ \\sum{ (x_i y_i - \\bar{y} x_i) }}{ \\sum{ (x_i^2 - \\bar{x} x_i) }}$$"
   ],
   "cell_type": "markdown",
   "metadata": {}
  },
  {
   "cell_type": "code",
   "execution_count": 3,
   "metadata": {},
   "outputs": [],
   "source": [
    "def get_regression_params(x, y):\n",
    "    x_mean = x.mean()\n",
    "    y_mean = y.mean()\n",
    "    m = np.sum((x*y) - (y_mean*x)) / np.sum((x**2) - (x_mean*x))\n",
    "    c = y_mean - m * x_mean\n",
    "    return m, c"
   ]
  },
  {
   "cell_type": "code",
   "execution_count": 4,
   "metadata": {},
   "outputs": [
    {
     "output_type": "execute_result",
     "data": {
      "text/plain": [
       "(4.074164851983236, 4.913608168237393)"
      ]
     },
     "metadata": {},
     "execution_count": 4
    }
   ],
   "source": [
    "get_regression_params(X, y)"
   ]
  },
  {
   "cell_type": "code",
   "execution_count": 5,
   "metadata": {},
   "outputs": [
    {
     "output_type": "execute_result",
     "data": {
      "text/plain": [
       "(array([[4.07416485]]), array([4.91360817]))"
      ]
     },
     "metadata": {},
     "execution_count": 5
    }
   ],
   "source": [
    "from sklearn.linear_model import LinearRegression\n",
    "lin_reg = LinearRegression()\n",
    "lin_reg.fit(X, y)\n",
    "lin_reg.coef_, lin_reg.intercept_"
   ]
  },
  {
   "source": [
    "## Finding line of best fit in multiple regression by normal equation\n",
    "\n",
    "$$y = 4x_1 - 2x_2 + 7 + noise$$\n",
    "\n",
    "We need to assume $\\hat{y} = \\hat{\\theta_0} x_0 + \\hat{\\theta_1} x_1 + \\hat{\\theta_2} x_2 $, where $x_0 = 1$\n",
    "\n",
    "If $m$ is the number of samples and $n$ is the number of features, then:\n",
    "$y$ is $m \\times 1$, $X$ is $m \\times (n+1)$, $\\hat{\\theta}$ is $(n+1) \\times 1$"
   ],
   "cell_type": "markdown",
   "metadata": {}
  },
  {
   "cell_type": "code",
   "execution_count": 6,
   "metadata": {},
   "outputs": [
    {
     "output_type": "execute_result",
     "data": {
      "text/plain": [
       "(100, 3)"
      ]
     },
     "metadata": {},
     "execution_count": 6
    }
   ],
   "source": [
    "# generation of test data\n",
    "x1 = 10 * np.random.rand(100, 1) # ~ (100, 1), values in range[0,10]\n",
    "x2 = 10 * np.random.rand(100, 1) # ~ (100, 1), values in range[0,10]\n",
    "y = 4 * x1 - 2 * x2 + 7 + np.random.randn(100, 1) # ~(100, 1)\n",
    "# plt.plot(X, y, '.r')\n",
    "X = np.column_stack((np.ones((100, 1)), x1, x2))\n",
    "X.shape # (m,n+1) = (100, 2+1)"
   ]
  },
  {
   "source": [
    "$$\\mathbf {\\hat{\\theta}} = (X^T X)^{-1} X^T \\mathbf y $$\n",
    "\n"
   ],
   "cell_type": "markdown",
   "metadata": {}
  },
  {
   "cell_type": "code",
   "execution_count": 7,
   "metadata": {},
   "outputs": [
    {
     "output_type": "execute_result",
     "data": {
      "text/plain": [
       "array([[ 7.39757762],\n",
       "       [ 3.95621227],\n",
       "       [-2.01372358]])"
      ]
     },
     "metadata": {},
     "execution_count": 7
    }
   ],
   "source": [
    "theta_cap = np.linalg.inv(X.T.dot(X)).dot(X.T.dot(y))\n",
    "theta_cap"
   ]
  },
  {
   "source": [
    "# Gradient Descent\n",
    "\n",
    "## Linear regression by gradient descent method\n",
    "\n",
    "$$y = 4x + 5 + noise$$"
   ],
   "cell_type": "markdown",
   "metadata": {}
  },
  {
   "source": [
    "Let us assume, $\\hat{y} = h_\\theta (x_{i}) = \\hat{\\theta_0} x_0 + \\hat{\\theta_1} x_1 $, where $x_0 = 1$\n",
    "\n",
    "Then, $$J(\\theta_0, \\theta_1) = \\dfrac {1}{2m} \\displaystyle \\sum _{i=1}^m \\left (h_\\theta (x_{i}) - y_{i} \\right)^2$$"
   ],
   "cell_type": "markdown",
   "metadata": {}
  },
  {
   "cell_type": "code",
   "execution_count": 8,
   "metadata": {},
   "outputs": [],
   "source": [
    "# generation of test data\n",
    "x = 3 * np.random.rand(100, 1) # ~(100, 1)\n",
    "y = 5 + 4 * x + np.random.randn(100, 1) # ~(100, 1)"
   ]
  },
  {
   "source": [
    "$$\\theta_i := \\theta_i - \\alpha \\frac{1}{m} \\sum\\limits_{i=1}^{m}(h_\\theta(x) - y_{i}) x_i $$"
   ],
   "cell_type": "markdown",
   "metadata": {}
  },
  {
   "cell_type": "code",
   "execution_count": 9,
   "metadata": {
    "tags": []
   },
   "outputs": [
    {
     "output_type": "execute_result",
     "data": {
      "text/plain": [
       "(4.54557706003431, 4.163732054080782)"
      ]
     },
     "metadata": {},
     "execution_count": 9
    }
   ],
   "source": [
    "theta0, theta1 = 0,0\n",
    "learning = 0.01\n",
    "m = len(x)\n",
    "for i in range(1000):\n",
    "    d_0 = np.sum((theta0 + x * theta1) - y)\n",
    "    d_1 = np.sum(((theta0 + x * theta1) - y) * x)\n",
    "    theta0 = theta0 - d_0 * (learning / m)\n",
    "    theta1 = theta1 - d_1 * (learning / m)\n",
    "theta0, theta1"
   ]
  },
  {
   "cell_type": "code",
   "execution_count": 10,
   "metadata": {},
   "outputs": [
    {
     "output_type": "execute_result",
     "data": {
      "text/plain": [
       "(array([4.59502557]), array([4.13968976]))"
      ]
     },
     "metadata": {},
     "execution_count": 10
    }
   ],
   "source": [
    "from sklearn.linear_model import SGDRegressor\n",
    "sgd_reg = SGDRegressor(max_iter=1000, tol=1e-3, penalty=None, eta0=0.01)\n",
    "sgd_reg.fit(x, y) \n",
    "sgd_reg.intercept_, sgd_reg.coef_"
   ]
  },
  {
   "source": [
    "## Multiple regression by gradient descent\n",
    "\n",
    "$$y = 4x_1 - 2x_2 + 7 + noise$$\n",
    "\n",
    "We need to assume $\\hat{y} = \\hat{\\theta_0} x_0 + \\hat{\\theta_1} x_1 + \\hat{\\theta_2} x_2 $, where $x_0 = 1$\n",
    "\n",
    "If $m$ is the number of samples and $n$ is the number of features, then:\n",
    "$y$ is $m \\times 1$, $X$ is $m \\times (n+1)$, $\\hat{\\theta}$ is $(n+1) \\times 1$"
   ],
   "cell_type": "markdown",
   "metadata": {}
  },
  {
   "cell_type": "code",
   "execution_count": 11,
   "metadata": {},
   "outputs": [
    {
     "output_type": "execute_result",
     "data": {
      "text/plain": [
       "(100, 3)"
      ]
     },
     "metadata": {},
     "execution_count": 11
    }
   ],
   "source": [
    "# generation of test data\n",
    "x1 = 10 * np.random.rand(100, 1) # ~ (100, 1), values in range[0,10]\n",
    "x2 = 10 * np.random.rand(100, 1) # ~ (100, 1), values in range[0,10]\n",
    "y = 4 * x1 - 2 * x2 + 7 + np.random.randn(100, 1) # ~(100, 1)\n",
    "# plt.plot(X, y, '.r')\n",
    "X = np.column_stack((np.ones((100, 1)), x1, x2))\n",
    "X.shape # (m,n+1) = (100, 2+1)"
   ]
  },
  {
   "source": [
    "$$J(\\theta) = \\dfrac {1}{2m} \\displaystyle \\sum _{i=1}^m \\left (h_\\theta (X_i) - y_{i} \\right)^2$$\n",
    "\n",
    "$$ \n",
    "\\nabla_\\theta J(\\theta) \n",
    "= \n",
    "\\begin{pmatrix}\n",
    "\\frac{\\partial J(\\theta)}{\\partial \\theta_0} \\\\ \n",
    "... \\\\ \n",
    "\\frac{\\partial J(\\theta)}{\\partial \\theta_n}\n",
    "\\end{pmatrix}\n",
    "=\n",
    "\\frac{1}{m} X^T(X \\theta - y) \n",
    "$$"
   ],
   "cell_type": "markdown",
   "metadata": {}
  },
  {
   "cell_type": "code",
   "execution_count": 12,
   "metadata": {
    "tags": []
   },
   "outputs": [
    {
     "output_type": "execute_result",
     "data": {
      "text/plain": [
       "array([[ 6.25534321],\n",
       "       [ 4.12638208],\n",
       "       [-1.97463571]])"
      ]
     },
     "metadata": {},
     "execution_count": 12
    }
   ],
   "source": [
    "eta = 0.01 # learning rate (try different values like 0.02 and 0.5)\n",
    "n_iterations = 2000 # use 10 for drawing the lines\n",
    "m = len(X)\n",
    "\n",
    "theta = np.zeros((3,1)) # random initialization\n",
    "for iteration in range(n_iterations):\n",
    "    gradients = 1/m * X.T.dot(X.dot(theta) - y)\n",
    "    theta -= eta * gradients\n",
    "\n",
    "theta"
   ]
  }
 ]
}